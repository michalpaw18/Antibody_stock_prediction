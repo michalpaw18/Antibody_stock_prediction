{
 "cells": [
  {
   "cell_type": "code",
   "execution_count": 45,
   "id": "8a51ac2d",
   "metadata": {},
   "outputs": [],
   "source": [
    "import pandas as pd\n",
    "import seaborn as sns\n",
    "import matplotlib.pyplot as plt\n",
    "import pandas_datareader as web\n",
    "from sklearn.preprocessing import MinMaxScaler\n",
    "import numpy as np\n",
    "\n",
    "\n",
    "\n",
    "import keras\n"
   ]
  },
  {
   "cell_type": "code",
   "execution_count": 46,
   "id": "4d578179",
   "metadata": {},
   "outputs": [
    {
     "data": {
      "text/plain": [
       "(2432, 6)"
      ]
     },
     "execution_count": 46,
     "metadata": {},
     "output_type": "execute_result"
    }
   ],
   "source": [
    "data = web.get_data_yahoo('FB',start = \"2010-01-01\",\n",
    "                            end = \"2022-02-13\")\n",
    "\n",
    "train = web.get_data_yahoo(\"FB\",\n",
    "                            start = \"2010-01-01\",\n",
    "                            end = \"2022-01-14\")\n",
    "\n",
    "test = web.get_data_yahoo(\"FB\",\n",
    "                            start = \"2022-01-14\",\n",
    "                            end = \"2022-02-13\")\n",
    "\n",
    "\n",
    "\n",
    "train.shape"
   ]
  },
  {
   "cell_type": "code",
   "execution_count": 47,
   "id": "5a002c3f",
   "metadata": {},
   "outputs": [
    {
     "data": {
      "text/plain": [
       "(2432, 1)"
      ]
     },
     "execution_count": 47,
     "metadata": {},
     "output_type": "execute_result"
    }
   ],
   "source": [
    "train_arr = np.array(train.Close).reshape(-1,1)\n",
    "train_arr.shape"
   ]
  },
  {
   "cell_type": "code",
   "execution_count": 48,
   "id": "a900a1ac",
   "metadata": {},
   "outputs": [],
   "source": [
    "normalizer = MinMaxScaler((0,1))\n",
    "normalized_train = normalizer.fit_transform(train)"
   ]
  },
  {
   "cell_type": "code",
   "execution_count": 49,
   "id": "cf37bd05",
   "metadata": {},
   "outputs": [
    {
     "name": "stdout",
     "output_type": "stream",
     "text": [
      "(2372, 60, 1)\n",
      "[0.00909687 0.00857783 0.00603726 ... 0.86898325 0.86696175 0.85903956]\n"
     ]
    }
   ],
   "source": [
    "inputs = list()\n",
    "targets = list()\n",
    "\n",
    "lr_days = 60\n",
    "train_len = train_arr.shape[0]\n",
    "\n",
    "for day in range(lr_days, train_len):\n",
    "    \n",
    "    inputs.append(normalized_train[day-lr_days:day, 0])\n",
    "    \n",
    "    targets.append(normalized_train[day, 0])\n",
    "    \n",
    "inputs = np.array(inputs)\n",
    "inputs = np.reshape(inputs, (inputs.shape[0], inputs.shape[1], 1))\n",
    "targets = np.array(targets)\n",
    "print(inputs.shape)\n",
    "print(targets)#5486"
   ]
  },
  {
   "cell_type": "code",
   "execution_count": 50,
   "id": "10bff23f",
   "metadata": {},
   "outputs": [],
   "source": [
    "lstm_net = keras.Sequential(\n",
    "    [\n",
    "    \n",
    "    keras.layers.LSTM(50, return_sequences = True, input_shape = (inputs.shape[1], 1)),\n",
    "    keras.layers.Dropout(0.1),\n",
    "    keras.layers.LSTM(50, return_sequences = True),\n",
    "    keras.layers.Dropout(0.1),\n",
    "    keras.layers.LSTM(50, return_sequences = True),\n",
    "    keras.layers.Dropout(0.1),\n",
    "    keras.layers.LSTM(50, return_sequences = True),\n",
    "    keras.layers.Dropout(0.1),\n",
    "    keras.layers.LSTM(50, return_sequences = True),\n",
    "    keras.layers.Dropout(0.1),\n",
    "    keras.layers.LSTM(50, return_sequences = True),\n",
    "    keras.layers.Dropout(0.1),\n",
    "    keras.layers.LSTM(50, return_sequences = True),\n",
    "    keras.layers.Dropout(0.1),\n",
    "\n",
    "\n",
    "    keras.layers.LSTM(50),\n",
    "    keras.layers.Dropout(0.1),\n",
    "    keras.layers.Dense(units=1)\n",
    "\n",
    "    ]\n",
    ")"
   ]
  },
  {
   "cell_type": "code",
   "execution_count": 51,
   "id": "0b3017f7",
   "metadata": {},
   "outputs": [
    {
     "data": {
      "text/plain": [
       "60"
      ]
     },
     "execution_count": 51,
     "metadata": {},
     "output_type": "execute_result"
    }
   ],
   "source": [
    "inputs.shape[1]"
   ]
  },
  {
   "cell_type": "code",
   "execution_count": 25,
   "id": "1890fb3a",
   "metadata": {},
   "outputs": [],
   "source": [
    "lstm_net.compile(\n",
    "    optimizer = 'adam', \n",
    "    metrics = ['accuracy'],\n",
    "    loss = 'mean_squared_error')"
   ]
  },
  {
   "cell_type": "code",
   "execution_count": 38,
   "id": "13f88ed4",
   "metadata": {},
   "outputs": [
    {
     "name": "stdout",
     "output_type": "stream",
     "text": [
      "Epoch 1/150\n",
      "75/75 [==============================] - 3s 38ms/step - loss: 3.1560e-04 - accuracy: 8.4317e-04\n",
      "Epoch 2/150\n",
      "75/75 [==============================] - 3s 34ms/step - loss: 4.0669e-04 - accuracy: 8.4317e-04\n",
      "Epoch 3/150\n",
      "75/75 [==============================] - 5s 72ms/step - loss: 3.4739e-04 - accuracy: 8.4317e-04\n",
      "Epoch 4/150\n",
      "75/75 [==============================] - 7s 92ms/step - loss: 2.9261e-04 - accuracy: 8.4317e-04\n",
      "Epoch 5/150\n",
      "75/75 [==============================] - 8s 97ms/step - loss: 3.1571e-04 - accuracy: 8.4317e-04\n",
      "Epoch 6/150\n",
      "75/75 [==============================] - 9s 118ms/step - loss: 3.5063e-04 - accuracy: 8.4317e-04\n",
      "Epoch 7/150\n",
      "75/75 [==============================] - 7s 100ms/step - loss: 3.0146e-04 - accuracy: 8.4317e-04\n",
      "Epoch 8/150\n",
      "75/75 [==============================] - 7s 95ms/step - loss: 3.2161e-04 - accuracy: 8.4317e-04\n",
      "Epoch 9/150\n",
      "75/75 [==============================] - 8s 110ms/step - loss: 3.3640e-04 - accuracy: 8.4317e-04\n",
      "Epoch 10/150\n",
      "75/75 [==============================] - 7s 90ms/step - loss: 3.9511e-04 - accuracy: 8.4317e-04\n",
      "Epoch 11/150\n",
      "75/75 [==============================] - 7s 92ms/step - loss: 3.5112e-04 - accuracy: 8.4317e-04\n",
      "Epoch 12/150\n",
      "75/75 [==============================] - 7s 92ms/step - loss: 3.0407e-04 - accuracy: 8.4317e-04\n",
      "Epoch 13/150\n",
      "75/75 [==============================] - 9s 117ms/step - loss: 3.1489e-04 - accuracy: 8.4317e-04\n",
      "Epoch 14/150\n",
      "75/75 [==============================] - 7s 94ms/step - loss: 3.3357e-04 - accuracy: 8.4317e-04\n",
      "Epoch 15/150\n",
      "75/75 [==============================] - 7s 95ms/step - loss: 3.5455e-04 - accuracy: 8.4317e-04\n",
      "Epoch 16/150\n",
      "75/75 [==============================] - 7s 90ms/step - loss: 3.2259e-04 - accuracy: 8.4317e-04\n",
      "Epoch 17/150\n",
      "75/75 [==============================] - 7s 93ms/step - loss: 3.0151e-04 - accuracy: 8.4317e-04\n",
      "Epoch 18/150\n",
      "75/75 [==============================] - 7s 93ms/step - loss: 3.1424e-04 - accuracy: 8.4317e-04\n",
      "Epoch 19/150\n",
      "75/75 [==============================] - 7s 92ms/step - loss: 3.9258e-04 - accuracy: 8.4317e-04\n",
      "Epoch 20/150\n",
      "75/75 [==============================] - 8s 110ms/step - loss: 3.0161e-04 - accuracy: 8.4317e-04\n",
      "Epoch 21/150\n",
      "75/75 [==============================] - 7s 93ms/step - loss: 3.6167e-04 - accuracy: 8.4317e-04\n",
      "Epoch 22/150\n",
      "75/75 [==============================] - 7s 90ms/step - loss: 3.1825e-04 - accuracy: 8.4317e-04\n",
      "Epoch 23/150\n",
      "75/75 [==============================] - 7s 98ms/step - loss: 3.1031e-04 - accuracy: 8.4317e-04\n",
      "Epoch 24/150\n",
      "75/75 [==============================] - 7s 91ms/step - loss: 3.2959e-04 - accuracy: 8.4317e-04\n",
      "Epoch 25/150\n",
      "75/75 [==============================] - 7s 88ms/step - loss: 3.2131e-04 - accuracy: 8.4317e-04\n",
      "Epoch 26/150\n",
      "75/75 [==============================] - 7s 91ms/step - loss: 3.2842e-04 - accuracy: 8.4317e-04\n",
      "Epoch 27/150\n",
      "75/75 [==============================] - 7s 90ms/step - loss: 3.0395e-04 - accuracy: 8.4317e-04\n",
      "Epoch 28/150\n",
      "75/75 [==============================] - 7s 92ms/step - loss: 3.5107e-04 - accuracy: 8.4317e-04\n",
      "Epoch 29/150\n",
      "75/75 [==============================] - 7s 93ms/step - loss: 3.4186e-04 - accuracy: 8.4317e-04\n",
      "Epoch 30/150\n",
      "75/75 [==============================] - 8s 111ms/step - loss: 4.1878e-04 - accuracy: 8.4317e-04\n",
      "Epoch 31/150\n",
      "75/75 [==============================] - 7s 99ms/step - loss: 3.5871e-04 - accuracy: 8.4317e-04\n",
      "Epoch 32/150\n",
      "75/75 [==============================] - 7s 91ms/step - loss: 3.8212e-04 - accuracy: 8.4317e-04\n",
      "Epoch 33/150\n",
      "75/75 [==============================] - 7s 96ms/step - loss: 3.4040e-04 - accuracy: 8.4317e-04\n",
      "Epoch 34/150\n",
      "75/75 [==============================] - 7s 74ms/step - loss: 3.1247e-04 - accuracy: 8.4317e-04\n",
      "Epoch 35/150\n",
      "75/75 [==============================] - 7s 72ms/step - loss: 3.6582e-04 - accuracy: 8.4317e-04\n",
      "Epoch 36/150\n",
      "75/75 [==============================] - 7s 89ms/step - loss: 3.1019e-04 - accuracy: 8.4317e-04\n",
      "Epoch 37/150\n",
      "75/75 [==============================] - 8s 114ms/step - loss: 2.9439e-04 - accuracy: 8.4317e-04\n",
      "Epoch 38/150\n",
      "75/75 [==============================] - 7s 100ms/step - loss: 3.4163e-04 - accuracy: 8.4317e-04\n",
      "Epoch 39/150\n",
      "75/75 [==============================] - 7s 95ms/step - loss: 2.7736e-04 - accuracy: 8.4317e-04\n",
      "Epoch 40/150\n",
      "75/75 [==============================] - 10s 117ms/step - loss: 2.9274e-04 - accuracy: 8.4317e-04\n",
      "Epoch 41/150\n",
      "75/75 [==============================] - 15s 198ms/step - loss: 3.4645e-04 - accuracy: 8.4317e-04\n",
      "Epoch 42/150\n",
      "75/75 [==============================] - 14s 189ms/step - loss: 3.5121e-04 - accuracy: 8.4317e-04\n",
      "Epoch 43/150\n",
      "75/75 [==============================] - 11s 148ms/step - loss: 3.1153e-04 - accuracy: 8.4317e-04\n",
      "Epoch 44/150\n",
      "75/75 [==============================] - 11s 147ms/step - loss: 3.1201e-04 - accuracy: 8.4317e-04\n",
      "Epoch 45/150\n",
      "75/75 [==============================] - 14s 191ms/step - loss: 2.9367e-04 - accuracy: 8.4317e-04\n",
      "Epoch 46/150\n",
      "75/75 [==============================] - 18s 245ms/step - loss: 2.9553e-04 - accuracy: 8.4317e-04\n",
      "Epoch 47/150\n",
      "75/75 [==============================] - 8s 107ms/step - loss: 3.4247e-04 - accuracy: 8.4317e-04\n",
      "Epoch 48/150\n",
      "75/75 [==============================] - 18s 240ms/step - loss: 3.0428e-04 - accuracy: 8.4317e-04\n",
      "Epoch 49/150\n",
      "75/75 [==============================] - 15s 204ms/step - loss: 3.1055e-04 - accuracy: 8.4317e-04\n",
      "Epoch 50/150\n",
      "75/75 [==============================] - 11s 150ms/step - loss: 3.2346e-04 - accuracy: 8.4317e-04\n",
      "Epoch 51/150\n",
      "75/75 [==============================] - 18s 243ms/step - loss: 3.2723e-04 - accuracy: 8.4317e-04\n",
      "Epoch 52/150\n",
      "75/75 [==============================] - 17s 229ms/step - loss: 3.2985e-04 - accuracy: 8.4317e-04\n",
      "Epoch 53/150\n",
      "75/75 [==============================] - 9s 122ms/step - loss: 3.3755e-04 - accuracy: 8.4317e-04\n",
      "Epoch 54/150\n",
      "75/75 [==============================] - 12s 161ms/step - loss: 3.4045e-04 - accuracy: 8.4317e-04\n",
      "Epoch 55/150\n",
      "75/75 [==============================] - 9s 121ms/step - loss: 3.4738e-04 - accuracy: 8.4317e-04\n",
      "Epoch 56/150\n",
      "75/75 [==============================] - 12s 162ms/step - loss: 3.6465e-04 - accuracy: 8.4317e-04\n",
      "Epoch 57/150\n",
      "75/75 [==============================] - 6s 81ms/step - loss: 3.4857e-04 - accuracy: 8.4317e-04\n",
      "Epoch 58/150\n",
      "75/75 [==============================] - 15s 162ms/step - loss: 4.3201e-04 - accuracy: 8.4317e-04\n",
      "Epoch 59/150\n",
      "75/75 [==============================] - 13s 175ms/step - loss: 3.6698e-04 - accuracy: 8.4317e-04\n",
      "Epoch 60/150\n",
      "75/75 [==============================] - 14s 183ms/step - loss: 3.1330e-04 - accuracy: 8.4317e-04\n",
      "Epoch 61/150\n",
      "75/75 [==============================] - 15s 208ms/step - loss: 3.0049e-04 - accuracy: 8.4317e-04\n",
      "Epoch 62/150\n",
      "75/75 [==============================] - 9s 120ms/step - loss: 3.1289e-04 - accuracy: 8.4317e-04\n",
      "Epoch 63/150\n",
      "75/75 [==============================] - 9s 121ms/step - loss: 3.2091e-04 - accuracy: 8.4317e-04\n",
      "Epoch 64/150\n",
      "75/75 [==============================] - 12s 163ms/step - loss: 3.4433e-04 - accuracy: 8.4317e-04\n",
      "Epoch 65/150\n",
      "75/75 [==============================] - 13s 168ms/step - loss: 3.3097e-04 - accuracy: 8.4317e-04\n",
      "Epoch 66/150\n",
      "75/75 [==============================] - 17s 226ms/step - loss: 3.5692e-04 - accuracy: 8.4317e-04\n",
      "Epoch 67/150\n",
      "75/75 [==============================] - 14s 193ms/step - loss: 2.8765e-04 - accuracy: 8.4317e-04\n",
      "Epoch 68/150\n",
      "75/75 [==============================] - 10s 129ms/step - loss: 3.0529e-04 - accuracy: 8.4317e-04\n",
      "Epoch 69/150\n",
      "75/75 [==============================] - 13s 181ms/step - loss: 2.8597e-04 - accuracy: 8.4317e-04\n",
      "Epoch 70/150\n",
      "75/75 [==============================] - 13s 179ms/step - loss: 3.0075e-04 - accuracy: 8.4317e-04\n",
      "Epoch 71/150\n",
      "75/75 [==============================] - 13s 178ms/step - loss: 3.4033e-04 - accuracy: 8.4317e-04\n",
      "Epoch 72/150\n",
      "75/75 [==============================] - 13s 175ms/step - loss: 3.1196e-04 - accuracy: 8.4317e-04\n",
      "Epoch 73/150\n",
      "75/75 [==============================] - 9s 126ms/step - loss: 3.1367e-04 - accuracy: 8.4317e-04\n",
      "Epoch 74/150\n",
      "75/75 [==============================] - 10s 133ms/step - loss: 3.1043e-04 - accuracy: 8.4317e-04\n",
      "Epoch 75/150\n"
     ]
    },
    {
     "name": "stdout",
     "output_type": "stream",
     "text": [
      "75/75 [==============================] - 13s 178ms/step - loss: 3.0470e-04 - accuracy: 8.4317e-04\n",
      "Epoch 76/150\n",
      "75/75 [==============================] - 14s 184ms/step - loss: 2.9425e-04 - accuracy: 8.4317e-04\n",
      "Epoch 77/150\n",
      "75/75 [==============================] - 17s 228ms/step - loss: 3.2408e-04 - accuracy: 8.4317e-04\n",
      "Epoch 78/150\n",
      "75/75 [==============================] - 17s 235ms/step - loss: 2.9830e-04 - accuracy: 8.4317e-04\n",
      "Epoch 79/150\n",
      "75/75 [==============================] - 14s 193ms/step - loss: 3.1276e-04 - accuracy: 8.4317e-04\n",
      "Epoch 80/150\n",
      "75/75 [==============================] - 11s 141ms/step - loss: 3.4106e-04 - accuracy: 8.4317e-04\n",
      "Epoch 81/150\n",
      "75/75 [==============================] - 10s 137ms/step - loss: 3.0421e-04 - accuracy: 8.4317e-04\n",
      "Epoch 82/150\n",
      "75/75 [==============================] - 13s 181ms/step - loss: 3.5150e-04 - accuracy: 8.4317e-04\n",
      "Epoch 83/150\n",
      "75/75 [==============================] - 17s 232ms/step - loss: 3.7196e-04 - accuracy: 8.4317e-04\n",
      "Epoch 84/150\n",
      "75/75 [==============================] - 17s 226ms/step - loss: 3.0464e-04 - accuracy: 8.4317e-04\n",
      "Epoch 85/150\n",
      "75/75 [==============================] - 17s 225ms/step - loss: 3.0422e-04 - accuracy: 8.4317e-04\n",
      "Epoch 86/150\n",
      "75/75 [==============================] - 14s 186ms/step - loss: 3.2157e-04 - accuracy: 8.4317e-04\n",
      "Epoch 87/150\n",
      "75/75 [==============================] - 11s 149ms/step - loss: 3.4508e-04 - accuracy: 8.4317e-04\n",
      "Epoch 88/150\n",
      "75/75 [==============================] - 17s 187ms/step - loss: 3.3772e-04 - accuracy: 8.4317e-04\n",
      "Epoch 89/150\n",
      "75/75 [==============================] - 17s 230ms/step - loss: 3.4560e-04 - accuracy: 8.4317e-04\n",
      "Epoch 90/150\n",
      "75/75 [==============================] - 14s 183ms/step - loss: 3.4438e-04 - accuracy: 8.4317e-04\n",
      "Epoch 91/150\n",
      "75/75 [==============================] - 14s 188ms/step - loss: 3.2232e-04 - accuracy: 8.4317e-04\n",
      "Epoch 92/150\n",
      "75/75 [==============================] - 13s 179ms/step - loss: 3.1685e-04 - accuracy: 8.4317e-04\n",
      "Epoch 93/150\n",
      "75/75 [==============================] - 15s 204ms/step - loss: 2.7743e-04 - accuracy: 8.4317e-04\n",
      "Epoch 94/150\n",
      "75/75 [==============================] - 19s 208ms/step - loss: 3.0185e-04 - accuracy: 8.4317e-04\n",
      "Epoch 95/150\n",
      "75/75 [==============================] - 15s 201ms/step - loss: 3.1006e-04 - accuracy: 8.4317e-04\n",
      "Epoch 96/150\n",
      "75/75 [==============================] - 11s 106ms/step - loss: 3.0508e-04 - accuracy: 8.4317e-04\n",
      "Epoch 97/150\n",
      "75/75 [==============================] - 9s 114ms/step - loss: 2.9180e-04 - accuracy: 8.4317e-04\n",
      "Epoch 98/150\n",
      "75/75 [==============================] - 10s 130ms/step - loss: 2.9750e-04 - accuracy: 8.4317e-04\n",
      "Epoch 99/150\n",
      "75/75 [==============================] - 9s 125ms/step - loss: 3.1881e-04 - accuracy: 8.4317e-04\n",
      "Epoch 100/150\n",
      "75/75 [==============================] - 12s 165ms/step - loss: 2.7166e-04 - accuracy: 8.4317e-04\n",
      "Epoch 101/150\n",
      "75/75 [==============================] - 12s 165ms/step - loss: 3.4150e-04 - accuracy: 8.4317e-04\n",
      "Epoch 102/150\n",
      "75/75 [==============================] - 9s 122ms/step - loss: 3.4715e-04 - accuracy: 8.4317e-04\n",
      "Epoch 103/150\n",
      "75/75 [==============================] - 12s 163ms/step - loss: 3.5112e-04 - accuracy: 8.4317e-04\n",
      "Epoch 104/150\n",
      "75/75 [==============================] - 12s 163ms/step - loss: 3.5231e-04 - accuracy: 8.4317e-04\n",
      "Epoch 105/150\n",
      "75/75 [==============================] - 9s 122ms/step - loss: 2.7967e-04 - accuracy: 8.4317e-04\n",
      "Epoch 106/150\n",
      "75/75 [==============================] - 12s 163ms/step - loss: 3.0470e-04 - accuracy: 8.4317e-04\n",
      "Epoch 107/150\n",
      "75/75 [==============================] - 9s 120ms/step - loss: 2.7773e-04 - accuracy: 8.4317e-04\n",
      "Epoch 108/150\n",
      "75/75 [==============================] - 9s 124ms/step - loss: 3.0211e-04 - accuracy: 8.4317e-04\n",
      "Epoch 109/150\n",
      "75/75 [==============================] - 12s 165ms/step - loss: 3.3171e-04 - accuracy: 8.4317e-04\n",
      "Epoch 110/150\n",
      "75/75 [==============================] - 12s 161ms/step - loss: 3.0052e-04 - accuracy: 8.4317e-04\n",
      "Epoch 111/150\n",
      "75/75 [==============================] - 13s 172ms/step - loss: 3.0660e-04 - accuracy: 8.4317e-04\n",
      "Epoch 112/150\n",
      "75/75 [==============================] - 13s 132ms/step - loss: 3.1426e-04 - accuracy: 8.4317e-04\n",
      "Epoch 113/150\n",
      "75/75 [==============================] - 9s 124ms/step - loss: 2.9575e-04 - accuracy: 8.4317e-04\n",
      "Epoch 114/150\n",
      "75/75 [==============================] - 10s 130ms/step - loss: 3.3558e-04 - accuracy: 8.4317e-04\n",
      "Epoch 115/150\n",
      "75/75 [==============================] - 10s 128ms/step - loss: 3.2058e-04 - accuracy: 8.4317e-04\n",
      "Epoch 116/150\n",
      "75/75 [==============================] - 13s 170ms/step - loss: 3.1517e-04 - accuracy: 8.4317e-04\n",
      "Epoch 117/150\n",
      "75/75 [==============================] - 10s 136ms/step - loss: 3.0360e-04 - accuracy: 8.4317e-04\n",
      "Epoch 118/150\n",
      "75/75 [==============================] - 10s 128ms/step - loss: 3.0212e-04 - accuracy: 8.4317e-04\n",
      "Epoch 119/150\n",
      "75/75 [==============================] - 9s 124ms/step - loss: 3.1016e-04 - accuracy: 8.4317e-04\n",
      "Epoch 120/150\n",
      "75/75 [==============================] - 12s 167ms/step - loss: 3.0136e-04 - accuracy: 8.4317e-04\n",
      "Epoch 121/150\n",
      "75/75 [==============================] - 10s 129ms/step - loss: 3.0921e-04 - accuracy: 8.4317e-04\n",
      "Epoch 122/150\n",
      "75/75 [==============================] - 16s 212ms/step - loss: 2.7941e-04 - accuracy: 8.4317e-04\n",
      "Epoch 123/150\n",
      "75/75 [==============================] - 10s 128ms/step - loss: 3.2991e-04 - accuracy: 8.4317e-04\n",
      "Epoch 124/150\n",
      "75/75 [==============================] - 15s 206ms/step - loss: 3.2196e-04 - accuracy: 8.4317e-04\n",
      "Epoch 125/150\n",
      "75/75 [==============================] - 9s 118ms/step - loss: 2.8033e-04 - accuracy: 8.4317e-04\n",
      "Epoch 126/150\n",
      "75/75 [==============================] - 9s 127ms/step - loss: 2.8661e-04 - accuracy: 8.4317e-04\n",
      "Epoch 127/150\n",
      "75/75 [==============================] - 13s 171ms/step - loss: 3.2687e-04 - accuracy: 8.4317e-04\n",
      "Epoch 128/150\n",
      "75/75 [==============================] - 12s 125ms/step - loss: 3.0910e-04 - accuracy: 8.4317e-04\n",
      "Epoch 129/150\n",
      "75/75 [==============================] - 12s 124ms/step - loss: 3.2654e-04 - accuracy: 8.4317e-04\n",
      "Epoch 130/150\n",
      "75/75 [==============================] - 12s 165ms/step - loss: 3.0795e-04 - accuracy: 8.4317e-04\n",
      "Epoch 131/150\n",
      "75/75 [==============================] - 9s 120ms/step - loss: 2.9983e-04 - accuracy: 8.4317e-04\n",
      "Epoch 132/150\n",
      "75/75 [==============================] - 12s 168ms/step - loss: 3.0866e-04 - accuracy: 8.4317e-04\n",
      "Epoch 133/150\n",
      "75/75 [==============================] - 16s 217ms/step - loss: 3.0345e-04 - accuracy: 8.4317e-04\n",
      "Epoch 134/150\n",
      "75/75 [==============================] - 6s 86ms/step - loss: 3.1926e-04 - accuracy: 8.4317e-04\n",
      "Epoch 135/150\n",
      "75/75 [==============================] - 13s 174ms/step - loss: 3.0206e-04 - accuracy: 8.4317e-04\n",
      "Epoch 136/150\n",
      "75/75 [==============================] - 13s 177ms/step - loss: 3.0517e-04 - accuracy: 8.4317e-04\n",
      "Epoch 137/150\n",
      "75/75 [==============================] - 9s 126ms/step - loss: 2.9352e-04 - accuracy: 8.4317e-04\n",
      "Epoch 138/150\n",
      "75/75 [==============================] - 16s 218ms/step - loss: 3.0793e-04 - accuracy: 8.4317e-04\n",
      "Epoch 139/150\n",
      "75/75 [==============================] - 13s 137ms/step - loss: 3.1504e-04 - accuracy: 8.4317e-04\n",
      "Epoch 140/150\n",
      "75/75 [==============================] - 13s 178ms/step - loss: 3.0054e-04 - accuracy: 8.4317e-04\n",
      "Epoch 141/150\n",
      "75/75 [==============================] - 9s 126ms/step - loss: 3.4436e-04 - accuracy: 8.4317e-04\n",
      "Epoch 142/150\n",
      "75/75 [==============================] - 10s 128ms/step - loss: 3.4299e-04 - accuracy: 8.4317e-04\n",
      "Epoch 143/150\n",
      "75/75 [==============================] - 17s 227ms/step - loss: 3.0956e-04 - accuracy: 8.4317e-04\n",
      "Epoch 144/150\n",
      "75/75 [==============================] - 13s 176ms/step - loss: 3.0183e-04 - accuracy: 8.4317e-04\n",
      "Epoch 145/150\n",
      "75/75 [==============================] - 17s 223ms/step - loss: 2.6629e-04 - accuracy: 8.4317e-04\n",
      "Epoch 146/150\n",
      "75/75 [==============================] - 16s 217ms/step - loss: 2.9361e-04 - accuracy: 8.4317e-04\n",
      "Epoch 147/150\n",
      "75/75 [==============================] - 13s 177ms/step - loss: 2.8960e-04 - accuracy: 8.4317e-04\n",
      "Epoch 148/150\n"
     ]
    },
    {
     "name": "stdout",
     "output_type": "stream",
     "text": [
      "75/75 [==============================] - 17s 227ms/step - loss: 2.9493e-04 - accuracy: 8.4317e-04\n",
      "Epoch 149/150\n",
      "75/75 [==============================] - 10s 134ms/step - loss: 3.3803e-04 - accuracy: 8.4317e-04\n",
      "Epoch 150/150\n",
      "75/75 [==============================] - 16s 211ms/step - loss: 3.1478e-04 - accuracy: 8.4317e-04\n"
     ]
    },
    {
     "data": {
      "text/plain": [
       "<keras.callbacks.History at 0x22dd6a8dca0>"
      ]
     },
     "execution_count": 38,
     "metadata": {},
     "output_type": "execute_result"
    }
   ],
   "source": [
    "lstm_net.fit(inputs, targets, epochs = 150, batch_size = 32)"
   ]
  },
  {
   "cell_type": "code",
   "execution_count": 57,
   "id": "4ca1fe2c",
   "metadata": {},
   "outputs": [
    {
     "name": "stdout",
     "output_type": "stream",
     "text": [
      "Model: \"sequential_3\"\n",
      "_________________________________________________________________\n",
      " Layer (type)                Output Shape              Param #   \n",
      "=================================================================\n",
      " lstm_24 (LSTM)              (None, 60, 50)            10400     \n",
      "                                                                 \n",
      " dropout_24 (Dropout)        (None, 60, 50)            0         \n",
      "                                                                 \n",
      " lstm_25 (LSTM)              (None, 60, 50)            20200     \n",
      "                                                                 \n",
      " dropout_25 (Dropout)        (None, 60, 50)            0         \n",
      "                                                                 \n",
      " lstm_26 (LSTM)              (None, 60, 50)            20200     \n",
      "                                                                 \n",
      " dropout_26 (Dropout)        (None, 60, 50)            0         \n",
      "                                                                 \n",
      " lstm_27 (LSTM)              (None, 60, 50)            20200     \n",
      "                                                                 \n",
      " dropout_27 (Dropout)        (None, 60, 50)            0         \n",
      "                                                                 \n",
      " lstm_28 (LSTM)              (None, 60, 50)            20200     \n",
      "                                                                 \n",
      " dropout_28 (Dropout)        (None, 60, 50)            0         \n",
      "                                                                 \n",
      " lstm_29 (LSTM)              (None, 60, 50)            20200     \n",
      "                                                                 \n",
      " dropout_29 (Dropout)        (None, 60, 50)            0         \n",
      "                                                                 \n",
      " lstm_30 (LSTM)              (None, 60, 50)            20200     \n",
      "                                                                 \n",
      " dropout_30 (Dropout)        (None, 60, 50)            0         \n",
      "                                                                 \n",
      " lstm_31 (LSTM)              (None, 50)                20200     \n",
      "                                                                 \n",
      " dropout_31 (Dropout)        (None, 50)                0         \n",
      "                                                                 \n",
      " dense_3 (Dense)             (None, 1)                 51        \n",
      "                                                                 \n",
      "=================================================================\n",
      "Total params: 151,851\n",
      "Trainable params: 151,851\n",
      "Non-trainable params: 0\n",
      "_________________________________________________________________\n",
      "None\n"
     ]
    }
   ],
   "source": [
    "print(lstm_net.summary())"
   ]
  },
  {
   "cell_type": "code",
   "execution_count": 58,
   "id": "cddca7b4",
   "metadata": {},
   "outputs": [
    {
     "data": {
      "text/plain": [
       "(20, 1)"
      ]
     },
     "execution_count": 58,
     "metadata": {},
     "output_type": "execute_result"
    }
   ],
   "source": [
    "test_targets = np.array(test.Close).reshape(-1,1)\n",
    "test_targets.shape\n"
   ]
  },
  {
   "cell_type": "code",
   "execution_count": 59,
   "id": "ca0be565",
   "metadata": {},
   "outputs": [],
   "source": [
    "\n",
    "\n",
    "days_all = data.shape[0]\n",
    "days_test = test.shape[0]\n",
    "\n",
    "days_rem = days_all-lr_days-days_test\n",
    "test_x = normalizer.fit_transform(np.array(data.Close[days_rem:]).reshape(-1,1))\n",
    "\n",
    "last_day = lr_days + days_test\n",
    "test_i = list()\n",
    "for day in range(lr_days, last_day):\n",
    "    \n",
    "    test_i.append(test_x[day-lr_days:day, 0])\n",
    "    \n",
    "test_i = np.array(test_i)\n",
    "\n",
    "preds = normalizer.inverse_transform(lstm_net.predict(test_i))\n",
    "\n",
    "\n"
   ]
  },
  {
   "cell_type": "code",
   "execution_count": 60,
   "id": "ec50ed87",
   "metadata": {},
   "outputs": [
    {
     "data": {
      "image/png": "[encoded data removed]",
      "text/plain": [
       "<Figure size 432x288 with 1 Axes>"
      ]
     },
     "metadata": {},
     "output_type": "display_data"
    }
   ],
   "source": [
    "plt.plot(test_targets, color = 'red', label = 'Real MSFT Stock Price')\n",
    "plt.plot(preds, color = 'blue', label = 'Predicted MSFT Stock Price')\n",
    "plt.title('MSFT Stock Price Prediction')\n",
    "plt.xlabel('Time (days)')\n",
    "plt.ylabel('MSFT Stock Price')\n",
    "plt.legend()\n",
    "plt.show()"
   ]
  },
  {
   "cell_type": "code",
   "execution_count": 61,
   "id": "3e374636",
   "metadata": {
    "scrolled": false
   },
   "outputs": [
    {
     "data": {
      "text/plain": [
       "Text(0, 0.5, 'Close Price (USD)')"
      ]
     },
     "execution_count": 61,
     "metadata": {},
     "output_type": "execute_result"
    },
    {
     "data": {
      "image/png": "[encoded data removed]",
      "text/plain": [
       "<Figure size 1296x216 with 1 Axes>"
      ]
     },
     "metadata": {},
     "output_type": "display_data"
    }
   ],
   "source": [
    "sns.set()\n",
    "plt.figure(figsize = (18,3))\n",
    "\n",
    "sns.lineplot(x=test.index,y=test['Close'])\n",
    "sns.lineplot(x=test.index,y=np.squeeze(preds)).set(title='Predictions for the Meta stocks')\n",
    "\n",
    "plt.ylabel(\"Close Price (USD)\")"
   ]
  },
  {
   "cell_type": "code",
   "execution_count": 62,
   "id": "30502667",
   "metadata": {},
   "outputs": [],
   "source": [
    "# testing the code using other datasets"
   ]
  },
  {
   "cell_type": "code",
   "execution_count": null,
   "id": "218b4665",
   "metadata": {},
   "outputs": [],
   "source": []
  }
 ],
 "metadata": {
  "kernelspec": {
   "display_name": "Python 3 (ipykernel)",
   "language": "python",
   "name": "python3"
  },
  "language_info": {
   "codemirror_mode": {
    "name": "ipython",
    "version": 3
   },
   "file_extension": ".py",
   "mimetype": "text/x-python",
   "name": "python",
   "nbconvert_exporter": "python",
   "pygments_lexer": "ipython3",
   "version": "3.9.7"
  }
 },
 "nbformat": 4,
 "nbformat_minor": 5
}
