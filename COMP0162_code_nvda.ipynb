{
 "cells": [
  {
   "cell_type": "code",
   "execution_count": 30,
   "id": "8a51ac2d",
   "metadata": {},
   "outputs": [],
   "source": [
    "import pandas as pd\n",
    "import matplotlib.pyplot as plt\n",
    "import pandas_datareader as web\n",
    "from sklearn.preprocessing import MinMaxScaler\n",
    "import numpy as np\n",
    "import seaborn as sns\n",
    "\n",
    "\n",
    "\n",
    "import keras\n"
   ]
  },
  {
   "cell_type": "code",
   "execution_count": 15,
   "id": "956cc880",
   "metadata": {},
   "outputs": [],
   "source": [
    "lstm_net = keras.Sequential(\n",
    "    [\n",
    "    \n",
    "    keras.layers.LSTM(50, return_sequences = True, input_shape = (inputs.shape[1], 1)),\n",
    "    keras.layers.Dropout(0.1),\n",
    "    keras.layers.LSTM(50, return_sequences = True),\n",
    "    keras.layers.Dropout(0.1),\n",
    "    keras.layers.LSTM(50, return_sequences = True),\n",
    "    keras.layers.Dropout(0.1),\n",
    "    keras.layers.LSTM(50, return_sequences = True),\n",
    "    keras.layers.Dropout(0.1),\n",
    "    keras.layers.LSTM(50, return_sequences = True),\n",
    "    keras.layers.Dropout(0.1),\n",
    "    keras.layers.LSTM(50, return_sequences = True),\n",
    "    keras.layers.Dropout(0.1),\n",
    "    keras.layers.LSTM(50, return_sequences = True),\n",
    "    keras.layers.Dropout(0.1),\n",
    "\n",
    "\n",
    "    keras.layers.LSTM(50),\n",
    "    keras.layers.Dropout(0.1),\n",
    "    keras.layers.Dense(units=1)\n",
    "\n",
    "    ]\n",
    ")"
   ]
  },
  {
   "cell_type": "code",
   "execution_count": 18,
   "id": "4d578179",
   "metadata": {},
   "outputs": [
    {
     "data": {
      "text/plain": [
       "(3031, 6)"
      ]
     },
     "execution_count": 18,
     "metadata": {},
     "output_type": "execute_result"
    }
   ],
   "source": [
    "data = web.get_data_yahoo('NVDA',start = \"2010-01-01\",\n",
    "                            end = \"2022-02-13\")\n",
    "\n",
    "train = web.get_data_yahoo(\"NVDA\",\n",
    "                            start = \"2010-01-01\",\n",
    "                            end = \"2022-01-14\")\n",
    "\n",
    "test = web.get_data_yahoo(\"NVDA\",\n",
    "                            start = \"2022-01-14\",\n",
    "                            end = \"2022-02-13\")\n",
    "\n",
    "\n",
    "train.shape"
   ]
  },
  {
   "cell_type": "code",
   "execution_count": 19,
   "id": "5a002c3f",
   "metadata": {},
   "outputs": [
    {
     "data": {
      "text/plain": [
       "(3031, 1)"
      ]
     },
     "execution_count": 19,
     "metadata": {},
     "output_type": "execute_result"
    }
   ],
   "source": [
    "train_arr = np.array(train.Close).reshape(-1,1)\n",
    "train_arr.shape"
   ]
  },
  {
   "cell_type": "code",
   "execution_count": 20,
   "id": "a900a1ac",
   "metadata": {},
   "outputs": [],
   "source": [
    "normalizer = MinMaxScaler((0,1))\n",
    "normalized_train = normalizer.fit_transform(train)"
   ]
  },
  {
   "cell_type": "code",
   "execution_count": 21,
   "id": "cf37bd05",
   "metadata": {},
   "outputs": [
    {
     "name": "stdout",
     "output_type": "stream",
     "text": [
      "(2971, 60, 1)\n",
      "[0.00623897 0.00626802 0.00614455 ... 0.82417586 0.82083478 0.78356079]\n"
     ]
    }
   ],
   "source": [
    "inputs = list()\n",
    "targets = list()\n",
    "\n",
    "lr_days = 60\n",
    "train_len = train_arr.shape[0]\n",
    "\n",
    "for day in range(lr_days, train_len):\n",
    "    \n",
    "    inputs.append(normalized_train[day-lr_days:day, 0])\n",
    "    \n",
    "    targets.append(normalized_train[day, 0])\n",
    "    \n",
    "inputs = np.array(inputs)\n",
    "inputs = np.reshape(inputs, (inputs.shape[0], inputs.shape[1], 1))\n",
    "targets = np.array(targets)\n",
    "print(inputs.shape)\n",
    "print(targets)#5486"
   ]
  },
  {
   "cell_type": "code",
   "execution_count": 22,
   "id": "0b3017f7",
   "metadata": {},
   "outputs": [
    {
     "data": {
      "text/plain": [
       "60"
      ]
     },
     "execution_count": 22,
     "metadata": {},
     "output_type": "execute_result"
    }
   ],
   "source": [
    "inputs.shape[1]"
   ]
  },
  {
   "cell_type": "code",
   "execution_count": 23,
   "id": "1890fb3a",
   "metadata": {},
   "outputs": [],
   "source": [
    "lstm_net.compile(\n",
    "    optimizer = 'adam', \n",
    "    metrics = ['accuracy'],\n",
    "    loss = 'mean_squared_error')"
   ]
  },
  {
   "cell_type": "code",
   "execution_count": 36,
   "id": "13f88ed4",
   "metadata": {},
   "outputs": [
    {
     "name": "stdout",
     "output_type": "stream",
     "text": [
      "Epoch 1/150\n",
      "93/93 [==============================] - 9s 99ms/step - loss: 2.4717e-04 - accuracy: 6.7317e-04\n",
      "Epoch 2/150\n",
      "93/93 [==============================] - 9s 101ms/step - loss: 2.1548e-04 - accuracy: 6.7317e-04\n",
      "Epoch 3/150\n",
      "93/93 [==============================] - 11s 118ms/step - loss: 1.8519e-04 - accuracy: 6.7317e-04\n",
      "Epoch 4/150\n",
      "93/93 [==============================] - 10s 107ms/step - loss: 2.0075e-04 - accuracy: 6.7317e-04\n",
      "Epoch 5/150\n",
      "93/93 [==============================] - 9s 99ms/step - loss: 1.9466e-04 - accuracy: 6.7317e-04\n",
      "Epoch 6/150\n",
      "93/93 [==============================] - 9s 95ms/step - loss: 2.0890e-04 - accuracy: 6.7317e-04\n",
      "Epoch 7/150\n",
      "93/93 [==============================] - 9s 99ms/step - loss: 2.3810e-04 - accuracy: 6.7317e-04\n",
      "Epoch 8/150\n",
      "93/93 [==============================] - 9s 102ms/step - loss: 1.9237e-04 - accuracy: 6.7317e-04\n",
      "Epoch 9/150\n",
      "93/93 [==============================] - 9s 99ms/step - loss: 1.8900e-04 - accuracy: 6.7317e-04\n",
      "Epoch 10/150\n",
      "93/93 [==============================] - 9s 101ms/step - loss: 1.7972e-04 - accuracy: 6.7317e-04\n",
      "Epoch 11/150\n",
      "93/93 [==============================] - 9s 97ms/step - loss: 1.8052e-04 - accuracy: 6.7317e-04\n",
      "Epoch 12/150\n",
      "93/93 [==============================] - 9s 100ms/step - loss: 1.5686e-04 - accuracy: 6.7317e-04\n",
      "Epoch 13/150\n",
      "93/93 [==============================] - 9s 101ms/step - loss: 1.8172e-04 - accuracy: 6.7317e-04\n",
      "Epoch 14/150\n",
      "93/93 [==============================] - 9s 98ms/step - loss: 1.7841e-04 - accuracy: 6.7317e-04\n",
      "Epoch 15/150\n",
      "93/93 [==============================] - 9s 100ms/step - loss: 1.9298e-04 - accuracy: 6.7317e-04\n",
      "Epoch 16/150\n",
      "93/93 [==============================] - 11s 116ms/step - loss: 2.1318e-04 - accuracy: 6.7317e-04\n",
      "Epoch 17/150\n",
      "93/93 [==============================] - 9s 97ms/step - loss: 1.7513e-04 - accuracy: 6.7317e-04\n",
      "Epoch 18/150\n",
      "93/93 [==============================] - 9s 98ms/step - loss: 2.1211e-04 - accuracy: 6.7317e-04\n",
      "Epoch 19/150\n",
      "93/93 [==============================] - 9s 98ms/step - loss: 1.7649e-04 - accuracy: 6.7317e-04\n",
      "Epoch 20/150\n",
      "93/93 [==============================] - 9s 101ms/step - loss: 1.8736e-04 - accuracy: 6.7317e-04\n",
      "Epoch 21/150\n",
      "93/93 [==============================] - 11s 119ms/step - loss: 2.4588e-04 - accuracy: 6.7317e-04\n",
      "Epoch 22/150\n",
      "93/93 [==============================] - 9s 99ms/step - loss: 2.0116e-04 - accuracy: 6.7317e-04\n",
      "Epoch 23/150\n",
      "93/93 [==============================] - 9s 100ms/step - loss: 1.8394e-04 - accuracy: 6.7317e-04\n",
      "Epoch 24/150\n",
      "93/93 [==============================] - 9s 97ms/step - loss: 2.1280e-04 - accuracy: 6.7317e-04\n",
      "Epoch 25/150\n",
      "93/93 [==============================] - 9s 99ms/step - loss: 1.7626e-04 - accuracy: 6.7317e-04\n",
      "Epoch 26/150\n",
      "93/93 [==============================] - 11s 116ms/step - loss: 1.8410e-04 - accuracy: 6.7317e-04\n",
      "Epoch 27/150\n",
      "93/93 [==============================] - 10s 106ms/step - loss: 1.6944e-04 - accuracy: 6.7317e-04\n",
      "Epoch 28/150\n",
      "93/93 [==============================] - 15s 147ms/step - loss: 2.0654e-04 - accuracy: 6.7317e-04\n",
      "Epoch 29/150\n",
      "93/93 [==============================] - 24s 256ms/step - loss: 1.7621e-04 - accuracy: 6.7317e-04\n",
      "Epoch 30/150\n",
      "93/93 [==============================] - 26s 284ms/step - loss: 1.7795e-04 - accuracy: 6.7317e-04\n",
      "Epoch 31/150\n",
      "93/93 [==============================] - 24s 257ms/step - loss: 1.9487e-04 - accuracy: 6.7317e-04\n",
      "Epoch 32/150\n",
      "93/93 [==============================] - 26s 280ms/step - loss: 1.8317e-04 - accuracy: 6.7317e-04\n",
      "Epoch 33/150\n",
      "93/93 [==============================] - 24s 262ms/step - loss: 2.2954e-04 - accuracy: 6.7317e-04\n",
      "Epoch 34/150\n",
      "93/93 [==============================] - 24s 261ms/step - loss: 2.3156e-04 - accuracy: 6.7317e-04\n",
      "Epoch 35/150\n",
      "93/93 [==============================] - 22s 242ms/step - loss: 1.8577e-04 - accuracy: 6.7317e-04\n",
      "Epoch 36/150\n",
      "93/93 [==============================] - 17s 186ms/step - loss: 1.5638e-04 - accuracy: 6.7317e-04\n",
      "Epoch 37/150\n",
      "93/93 [==============================] - 17s 188ms/step - loss: 1.5350e-04 - accuracy: 6.7317e-04\n",
      "Epoch 38/150\n",
      "93/93 [==============================] - 17s 187ms/step - loss: 1.8847e-04 - accuracy: 6.7317e-04\n",
      "Epoch 39/150\n",
      "93/93 [==============================] - 16s 175ms/step - loss: 1.7348e-04 - accuracy: 6.7317e-04\n",
      "Epoch 40/150\n",
      "93/93 [==============================] - 21s 232ms/step - loss: 1.5394e-04 - accuracy: 6.7317e-04\n",
      "Epoch 41/150\n",
      "93/93 [==============================] - 16s 176ms/step - loss: 1.8037e-04 - accuracy: 6.7317e-04\n",
      "Epoch 42/150\n",
      "93/93 [==============================] - 18s 194ms/step - loss: 1.8657e-04 - accuracy: 6.7317e-04\n",
      "Epoch 43/150\n",
      "93/93 [==============================] - 16s 175ms/step - loss: 2.0411e-04 - accuracy: 6.7317e-04\n",
      "Epoch 44/150\n",
      "93/93 [==============================] - 21s 223ms/step - loss: 1.6751e-04 - accuracy: 6.7317e-04\n",
      "Epoch 45/150\n",
      "93/93 [==============================] - 18s 196ms/step - loss: 1.8132e-04 - accuracy: 6.7317e-04\n",
      "Epoch 46/150\n",
      "93/93 [==============================] - 23s 253ms/step - loss: 1.7105e-04 - accuracy: 6.7317e-04\n",
      "Epoch 47/150\n",
      "93/93 [==============================] - 21s 232ms/step - loss: 1.8638e-04 - accuracy: 6.7317e-04\n",
      "Epoch 48/150\n",
      "93/93 [==============================] - 18s 199ms/step - loss: 1.7207e-04 - accuracy: 6.7317e-04\n",
      "Epoch 49/150\n",
      "93/93 [==============================] - 20s 215ms/step - loss: 1.8712e-04 - accuracy: 6.7317e-04\n",
      "Epoch 50/150\n",
      "93/93 [==============================] - 21s 201ms/step - loss: 2.0267e-04 - accuracy: 6.7317e-04\n",
      "Epoch 51/150\n",
      "93/93 [==============================] - 22s 239ms/step - loss: 1.6222e-04 - accuracy: 6.7317e-04\n",
      "Epoch 52/150\n",
      "93/93 [==============================] - 22s 234ms/step - loss: 1.4949e-04 - accuracy: 6.7317e-04\n",
      "Epoch 53/150\n",
      "93/93 [==============================] - 26s 281ms/step - loss: 2.1550e-04 - accuracy: 6.7317e-04\n",
      "Epoch 54/150\n",
      "93/93 [==============================] - 22s 240ms/step - loss: 1.9078e-04 - accuracy: 6.7317e-04\n",
      "Epoch 55/150\n",
      "93/93 [==============================] - 21s 231ms/step - loss: 1.7041e-04 - accuracy: 6.7317e-04\n",
      "Epoch 56/150\n",
      "93/93 [==============================] - 17s 189ms/step - loss: 1.7939e-04 - accuracy: 6.7317e-04\n",
      "Epoch 57/150\n",
      "93/93 [==============================] - 21s 233ms/step - loss: 1.6893e-04 - accuracy: 6.7317e-04\n",
      "Epoch 58/150\n",
      "93/93 [==============================] - 24s 258ms/step - loss: 1.8604e-04 - accuracy: 6.7317e-04\n",
      "Epoch 59/150\n",
      "93/93 [==============================] - 18s 195ms/step - loss: 1.7490e-04 - accuracy: 6.7317e-04\n",
      "Epoch 60/150\n",
      "93/93 [==============================] - 23s 245ms/step - loss: 2.8545e-04 - accuracy: 6.7317e-04\n",
      "Epoch 61/150\n",
      "93/93 [==============================] - 18s 190ms/step - loss: 1.6928e-04 - accuracy: 6.7317e-04\n",
      "Epoch 62/150\n",
      "93/93 [==============================] - 24s 261ms/step - loss: 1.6760e-04 - accuracy: 6.7317e-04\n",
      "Epoch 63/150\n",
      "93/93 [==============================] - 24s 265ms/step - loss: 1.7388e-04 - accuracy: 6.7317e-04\n",
      "Epoch 64/150\n",
      "93/93 [==============================] - 29s 315ms/step - loss: 1.5818e-04 - accuracy: 6.7317e-04\n",
      "Epoch 65/150\n",
      "93/93 [==============================] - 19s 204ms/step - loss: 1.8212e-04 - accuracy: 6.7317e-04\n",
      "Epoch 66/150\n",
      "93/93 [==============================] - 16s 175ms/step - loss: 1.7932e-04 - accuracy: 6.7317e-04\n",
      "Epoch 67/150\n",
      "93/93 [==============================] - 18s 193ms/step - loss: 1.8461e-04 - accuracy: 6.7317e-04\n",
      "Epoch 68/150\n",
      "93/93 [==============================] - 17s 183ms/step - loss: 1.8084e-04 - accuracy: 6.7317e-04\n",
      "Epoch 69/150\n",
      "93/93 [==============================] - 17s 188ms/step - loss: 2.1678e-04 - accuracy: 6.7317e-04\n",
      "Epoch 70/150\n",
      "93/93 [==============================] - 17s 184ms/step - loss: 1.6709e-04 - accuracy: 6.7317e-04\n",
      "Epoch 71/150\n",
      "93/93 [==============================] - 17s 185ms/step - loss: 1.5646e-04 - accuracy: 6.7317e-04\n",
      "Epoch 72/150\n",
      "93/93 [==============================] - 17s 182ms/step - loss: 1.9233e-04 - accuracy: 6.7317e-04\n",
      "Epoch 73/150\n",
      "93/93 [==============================] - 20s 220ms/step - loss: 2.3481e-04 - accuracy: 6.7317e-04\n",
      "Epoch 74/150\n",
      "93/93 [==============================] - 19s 208ms/step - loss: 1.5998e-04 - accuracy: 6.7317e-04\n",
      "Epoch 75/150\n"
     ]
    },
    {
     "name": "stdout",
     "output_type": "stream",
     "text": [
      "93/93 [==============================] - 22s 239ms/step - loss: 1.3004e-04 - accuracy: 6.7317e-04\n",
      "Epoch 76/150\n",
      "93/93 [==============================] - 25s 271ms/step - loss: 1.6776e-04 - accuracy: 6.7317e-04\n",
      "Epoch 77/150\n",
      "93/93 [==============================] - 17s 186ms/step - loss: 1.9040e-04 - accuracy: 6.7317e-04\n",
      "Epoch 78/150\n",
      "93/93 [==============================] - 21s 225ms/step - loss: 1.5758e-04 - accuracy: 6.7317e-04\n",
      "Epoch 79/150\n",
      "93/93 [==============================] - 17s 185ms/step - loss: 1.7404e-04 - accuracy: 6.7317e-04\n",
      "Epoch 80/150\n",
      "93/93 [==============================] - 16s 175ms/step - loss: 1.5214e-04 - accuracy: 6.7317e-04\n",
      "Epoch 81/150\n",
      "93/93 [==============================] - 18s 198ms/step - loss: 1.8068e-04 - accuracy: 6.7317e-04\n",
      "Epoch 82/150\n",
      "93/93 [==============================] - 16s 176ms/step - loss: 1.6238e-04 - accuracy: 6.7317e-04\n",
      "Epoch 83/150\n",
      "93/93 [==============================] - 20s 187ms/step - loss: 2.0825e-04 - accuracy: 6.7317e-04\n",
      "Epoch 84/150\n",
      "93/93 [==============================] - 16s 177ms/step - loss: 1.7182e-04 - accuracy: 6.7317e-04\n",
      "Epoch 85/150\n",
      "93/93 [==============================] - 17s 189ms/step - loss: 1.7800e-04 - accuracy: 6.7317e-04\n",
      "Epoch 86/150\n",
      "93/93 [==============================] - 19s 205ms/step - loss: 2.1215e-04 - accuracy: 6.7317e-04\n",
      "Epoch 87/150\n",
      "93/93 [==============================] - 18s 192ms/step - loss: 1.6463e-04 - accuracy: 6.7317e-04\n",
      "Epoch 88/150\n",
      "93/93 [==============================] - 21s 196ms/step - loss: 1.6080e-04 - accuracy: 6.7317e-04\n",
      "Epoch 89/150\n",
      "93/93 [==============================] - 16s 177ms/step - loss: 1.7237e-04 - accuracy: 6.7317e-04\n",
      "Epoch 90/150\n",
      "93/93 [==============================] - 22s 241ms/step - loss: 1.7336e-04 - accuracy: 6.7317e-04\n",
      "Epoch 91/150\n",
      "93/93 [==============================] - 22s 244ms/step - loss: 1.8619e-04 - accuracy: 6.7317e-04\n",
      "Epoch 92/150\n",
      "93/93 [==============================] - 17s 188ms/step - loss: 2.4712e-04 - accuracy: 6.7317e-04\n",
      "Epoch 93/150\n",
      "93/93 [==============================] - 18s 200ms/step - loss: 1.9097e-04 - accuracy: 6.7317e-04\n",
      "Epoch 94/150\n",
      "93/93 [==============================] - 20s 213ms/step - loss: 1.6638e-04 - accuracy: 6.7317e-04\n",
      "Epoch 95/150\n",
      "93/93 [==============================] - 17s 189ms/step - loss: 1.9464e-04 - accuracy: 6.7317e-04\n",
      "Epoch 96/150\n",
      "93/93 [==============================] - 21s 225ms/step - loss: 1.5884e-04 - accuracy: 6.7317e-04\n",
      "Epoch 97/150\n",
      "93/93 [==============================] - 18s 192ms/step - loss: 1.5489e-04 - accuracy: 6.7317e-04\n",
      "Epoch 98/150\n",
      "93/93 [==============================] - 15s 158ms/step - loss: 1.5218e-04 - accuracy: 6.7317e-04\n",
      "Epoch 99/150\n",
      "93/93 [==============================] - 13s 139ms/step - loss: 1.6644e-04 - accuracy: 6.7317e-04\n",
      "Epoch 100/150\n",
      "93/93 [==============================] - 13s 140ms/step - loss: 1.7054e-04 - accuracy: 6.7317e-04\n",
      "Epoch 101/150\n",
      "93/93 [==============================] - 13s 140ms/step - loss: 1.6081e-04 - accuracy: 6.7317e-04\n",
      "Epoch 102/150\n",
      "93/93 [==============================] - 11s 115ms/step - loss: 1.7609e-04 - accuracy: 6.7317e-04\n",
      "Epoch 103/150\n",
      "93/93 [==============================] - 13s 143ms/step - loss: 1.5521e-04 - accuracy: 6.7317e-04\n",
      "Epoch 104/150\n",
      "93/93 [==============================] - 14s 148ms/step - loss: 1.7646e-04 - accuracy: 6.7317e-04\n",
      "Epoch 105/150\n",
      "93/93 [==============================] - 13s 145ms/step - loss: 1.7800e-04 - accuracy: 6.7317e-04\n",
      "Epoch 106/150\n",
      "93/93 [==============================] - 13s 143ms/step - loss: 1.9179e-04 - accuracy: 6.7317e-04\n",
      "Epoch 107/150\n",
      "93/93 [==============================] - 13s 143ms/step - loss: 1.8043e-04 - accuracy: 6.7317e-04\n",
      "Epoch 108/150\n",
      "93/93 [==============================] - 13s 140ms/step - loss: 1.7352e-04 - accuracy: 6.7317e-04\n",
      "Epoch 109/150\n",
      "93/93 [==============================] - 11s 114ms/step - loss: 1.6929e-04 - accuracy: 6.7317e-04\n",
      "Epoch 110/150\n",
      "93/93 [==============================] - 13s 115ms/step - loss: 2.3346e-04 - accuracy: 6.7317e-04\n",
      "Epoch 111/150\n",
      "93/93 [==============================] - 13s 144ms/step - loss: 1.5659e-04 - accuracy: 6.7317e-04\n",
      "Epoch 112/150\n",
      "93/93 [==============================] - 13s 142ms/step - loss: 1.9096e-04 - accuracy: 6.7317e-04\n",
      "Epoch 113/150\n",
      "93/93 [==============================] - 13s 137ms/step - loss: 1.5976e-04 - accuracy: 6.7317e-04\n",
      "Epoch 114/150\n",
      "93/93 [==============================] - 10s 113ms/step - loss: 1.6564e-04 - accuracy: 6.7317e-04\n",
      "Epoch 115/150\n",
      "93/93 [==============================] - 13s 136ms/step - loss: 1.6694e-04 - accuracy: 6.7317e-04\n",
      "Epoch 116/150\n",
      "93/93 [==============================] - 13s 138ms/step - loss: 1.9842e-04 - accuracy: 6.7317e-04\n",
      "Epoch 117/150\n",
      "93/93 [==============================] - 10s 113ms/step - loss: 1.6765e-04 - accuracy: 6.7317e-04\n",
      "Epoch 118/150\n",
      "93/93 [==============================] - 13s 138ms/step - loss: 1.6970e-04 - accuracy: 6.7317e-04\n",
      "Epoch 119/150\n",
      "93/93 [==============================] - 13s 139ms/step - loss: 1.5719e-04 - accuracy: 6.7317e-04\n",
      "Epoch 120/150\n",
      "93/93 [==============================] - 10s 111ms/step - loss: 1.6000e-04 - accuracy: 6.7317e-04\n",
      "Epoch 121/150\n",
      "93/93 [==============================] - 13s 140ms/step - loss: 1.7354e-04 - accuracy: 6.7317e-04\n",
      "Epoch 122/150\n",
      "93/93 [==============================] - 14s 155ms/step - loss: 1.6759e-04 - accuracy: 6.7317e-04\n",
      "Epoch 123/150\n",
      "93/93 [==============================] - 14s 149ms/step - loss: 1.5694e-04 - accuracy: 6.7317e-04\n",
      "Epoch 124/150\n",
      "93/93 [==============================] - 13s 141ms/step - loss: 1.7835e-04 - accuracy: 6.7317e-04\n",
      "Epoch 125/150\n",
      "93/93 [==============================] - 13s 143ms/step - loss: 1.4109e-04 - accuracy: 6.7317e-04\n",
      "Epoch 126/150\n",
      "93/93 [==============================] - 14s 150ms/step - loss: 1.7183e-04 - accuracy: 6.7317e-04\n",
      "Epoch 127/150\n",
      "93/93 [==============================] - 13s 144ms/step - loss: 1.4759e-04 - accuracy: 6.7317e-04\n",
      "Epoch 128/150\n",
      "93/93 [==============================] - 13s 140ms/step - loss: 1.8853e-04 - accuracy: 6.7317e-04\n",
      "Epoch 129/150\n",
      "93/93 [==============================] - 13s 144ms/step - loss: 1.6210e-04 - accuracy: 6.7317e-04\n",
      "Epoch 130/150\n",
      "93/93 [==============================] - 13s 141ms/step - loss: 1.6283e-04 - accuracy: 6.7317e-04\n",
      "Epoch 131/150\n",
      "93/93 [==============================] - 14s 151ms/step - loss: 1.5008e-04 - accuracy: 6.7317e-04\n",
      "Epoch 132/150\n",
      "93/93 [==============================] - 20s 217ms/step - loss: 1.7830e-04 - accuracy: 6.7317e-04\n",
      "Epoch 133/150\n",
      "93/93 [==============================] - 15s 168ms/step - loss: 1.9136e-04 - accuracy: 6.7317e-04\n",
      "Epoch 134/150\n",
      "93/93 [==============================] - 15s 160ms/step - loss: 1.6914e-04 - accuracy: 6.7317e-04\n",
      "Epoch 135/150\n",
      "93/93 [==============================] - 22s 243ms/step - loss: 1.6461e-04 - accuracy: 6.7317e-04\n",
      "Epoch 136/150\n",
      "93/93 [==============================] - 33s 359ms/step - loss: 1.7781e-04 - accuracy: 6.7317e-04\n",
      "Epoch 137/150\n",
      "93/93 [==============================] - 28s 307ms/step - loss: 1.7430e-04 - accuracy: 6.7317e-04\n",
      "Epoch 138/150\n",
      "93/93 [==============================] - 27s 289ms/step - loss: 1.4896e-04 - accuracy: 6.7317e-04\n",
      "Epoch 139/150\n",
      "93/93 [==============================] - 30s 286ms/step - loss: 1.6336e-04 - accuracy: 6.7317e-04\n",
      "Epoch 140/150\n",
      "93/93 [==============================] - 32s 342ms/step - loss: 1.6955e-04 - accuracy: 6.7317e-04\n",
      "Epoch 141/150\n",
      "93/93 [==============================] - 27s 294ms/step - loss: 1.8051e-04 - accuracy: 6.7317e-04\n",
      "Epoch 142/150\n",
      "93/93 [==============================] - 27s 292ms/step - loss: 1.6218e-04 - accuracy: 6.7317e-04\n",
      "Epoch 143/150\n",
      "93/93 [==============================] - 27s 291ms/step - loss: 2.0950e-04 - accuracy: 6.7317e-04\n",
      "Epoch 144/150\n",
      "93/93 [==============================] - 27s 291ms/step - loss: 1.4680e-04 - accuracy: 6.7317e-04\n",
      "Epoch 145/150\n",
      "93/93 [==============================] - 29s 309ms/step - loss: 1.6259e-04 - accuracy: 6.7317e-04\n",
      "Epoch 146/150\n",
      "93/93 [==============================] - 35s 384ms/step - loss: 1.7810e-04 - accuracy: 6.7317e-04\n",
      "Epoch 147/150\n",
      "93/93 [==============================] - 29s 310ms/step - loss: 1.7098e-04 - accuracy: 6.7317e-04\n",
      "Epoch 148/150\n"
     ]
    },
    {
     "name": "stdout",
     "output_type": "stream",
     "text": [
      "93/93 [==============================] - 31s 339ms/step - loss: 1.7849e-04 - accuracy: 6.7317e-04\n",
      "Epoch 149/150\n",
      "93/93 [==============================] - 21s 225ms/step - loss: 1.6780e-04 - accuracy: 6.7317e-04\n",
      "Epoch 150/150\n",
      "93/93 [==============================] - 21s 229ms/step - loss: 1.8791e-04 - accuracy: 6.7317e-04\n"
     ]
    },
    {
     "data": {
      "text/plain": [
       "<keras.callbacks.History at 0x204bed56e50>"
      ]
     },
     "execution_count": 36,
     "metadata": {},
     "output_type": "execute_result"
    }
   ],
   "source": [
    "\n",
    "lstm_net.fit(inputs, targets, epochs = 150, batch_size = 32)"
   ]
  },
  {
   "cell_type": "code",
   "execution_count": 42,
   "id": "4ca1fe2c",
   "metadata": {},
   "outputs": [
    {
     "name": "stdout",
     "output_type": "stream",
     "text": [
      "Model: \"sequential_1\"\n",
      "_________________________________________________________________\n",
      " Layer (type)                Output Shape              Param #   \n",
      "=================================================================\n",
      " lstm_8 (LSTM)               (None, 60, 50)            10400     \n",
      "                                                                 \n",
      " dropout_8 (Dropout)         (None, 60, 50)            0         \n",
      "                                                                 \n",
      " lstm_9 (LSTM)               (None, 60, 50)            20200     \n",
      "                                                                 \n",
      " dropout_9 (Dropout)         (None, 60, 50)            0         \n",
      "                                                                 \n",
      " lstm_10 (LSTM)              (None, 60, 50)            20200     \n",
      "                                                                 \n",
      " dropout_10 (Dropout)        (None, 60, 50)            0         \n",
      "                                                                 \n",
      " lstm_11 (LSTM)              (None, 60, 50)            20200     \n",
      "                                                                 \n",
      " dropout_11 (Dropout)        (None, 60, 50)            0         \n",
      "                                                                 \n",
      " lstm_12 (LSTM)              (None, 60, 50)            20200     \n",
      "                                                                 \n",
      " dropout_12 (Dropout)        (None, 60, 50)            0         \n",
      "                                                                 \n",
      " lstm_13 (LSTM)              (None, 60, 50)            20200     \n",
      "                                                                 \n",
      " dropout_13 (Dropout)        (None, 60, 50)            0         \n",
      "                                                                 \n",
      " lstm_14 (LSTM)              (None, 60, 50)            20200     \n",
      "                                                                 \n",
      " dropout_14 (Dropout)        (None, 60, 50)            0         \n",
      "                                                                 \n",
      " lstm_15 (LSTM)              (None, 50)                20200     \n",
      "                                                                 \n",
      " dropout_15 (Dropout)        (None, 50)                0         \n",
      "                                                                 \n",
      " dense_1 (Dense)             (None, 1)                 51        \n",
      "                                                                 \n",
      "=================================================================\n",
      "Total params: 151,851\n",
      "Trainable params: 151,851\n",
      "Non-trainable params: 0\n",
      "_________________________________________________________________\n",
      "None\n"
     ]
    }
   ],
   "source": [
    "print(lstm_net.summary())"
   ]
  },
  {
   "cell_type": "code",
   "execution_count": 43,
   "id": "cddca7b4",
   "metadata": {},
   "outputs": [
    {
     "data": {
      "text/plain": [
       "(20, 1)"
      ]
     },
     "execution_count": 43,
     "metadata": {},
     "output_type": "execute_result"
    }
   ],
   "source": [
    "test_targets = np.array(test.Close).reshape(-1,1)\n",
    "test_targets.shape\n"
   ]
  },
  {
   "cell_type": "code",
   "execution_count": 44,
   "id": "ca0be565",
   "metadata": {},
   "outputs": [],
   "source": [
    "\n",
    "\n",
    "days_all = data.shape[0]\n",
    "days_test = test.shape[0]\n",
    "\n",
    "days_rem = days_all-lr_days-days_test\n",
    "test_x = normalizer.fit_transform(np.array(data.Close[days_rem:]).reshape(-1,1))\n",
    "\n",
    "last_day = lr_days + days_test\n",
    "test_i = list()\n",
    "for day in range(lr_days, last_day):\n",
    "    \n",
    "    test_i.append(test_x[day-lr_days:day, 0])\n",
    "    \n",
    "test_i = np.array(test_i)\n",
    "\n",
    "preds = normalizer.inverse_transform(lstm_net.predict(test_i))\n",
    "\n",
    "\n"
   ]
  },
  {
   "cell_type": "code",
   "execution_count": 45,
   "id": "ec50ed87",
   "metadata": {},
   "outputs": [
    {
     "data": {
      "image/png": "[encoded data removed]",
      "text/plain": [
       "<Figure size 432x288 with 1 Axes>"
      ]
     },
     "metadata": {},
     "output_type": "display_data"
    }
   ],
   "source": [
    "plt.plot(test_targets, color = 'red', label = 'Real MSFT Stock Price')\n",
    "plt.plot(preds, color = 'blue', label = 'Predicted MSFT Stock Price')\n",
    "plt.title('MSFT Stock Price Prediction')\n",
    "plt.xlabel('Time (days)')\n",
    "plt.ylabel('MSFT Stock Price')\n",
    "plt.legend()\n",
    "plt.show()"
   ]
  },
  {
   "cell_type": "code",
   "execution_count": 52,
   "id": "3e374636",
   "metadata": {
    "scrolled": false
   },
   "outputs": [
    {
     "data": {
      "image/png": "[encoded data removed]",
      "text/plain": [
       "<Figure size 720x360 with 1 Axes>"
      ]
     },
     "metadata": {},
     "output_type": "display_data"
    }
   ],
   "source": [
    "sns.set()\n",
    "fig=plt.figure(figsize = (10,5))\n",
    "\n",
    "sns.lineplot(x=test.index,y=test['Close'])\n",
    "sns.lineplot(x=test.index,y=np.squeeze(preds)).set(title='Predictions for the NVDA stocks')\n",
    "plt.legend(labels=[\"Actual stock price\",\"Predicted stock price\"])\n",
    "\n",
    "\n",
    "plt.ylabel(\"Close Price (USD)\")\n",
    "plt.show()\n",
    "fig.savefig('NVDA.png') \n",
    "plt.close(fig) "
   ]
  },
  {
   "cell_type": "code",
   "execution_count": 166,
   "id": "30502667",
   "metadata": {},
   "outputs": [],
   "source": [
    "# testing the code using other datasets"
   ]
  },
  {
   "cell_type": "code",
   "execution_count": null,
   "id": "218b4665",
   "metadata": {},
   "outputs": [],
   "source": []
  }
 ],
 "metadata": {
  "kernelspec": {
   "display_name": "Python 3 (ipykernel)",
   "language": "python",
   "name": "python3"
  },
  "language_info": {
   "codemirror_mode": {
    "name": "ipython",
    "version": 3
   },
   "file_extension": ".py",
   "mimetype": "text/x-python",
   "name": "python",
   "nbconvert_exporter": "python",
   "pygments_lexer": "ipython3",
   "version": "3.9.7"
  }
 },
 "nbformat": 4,
 "nbformat_minor": 5
}
