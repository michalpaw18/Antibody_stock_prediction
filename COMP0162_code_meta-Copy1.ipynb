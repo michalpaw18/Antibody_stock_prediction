{
 "cells": [
  {
   "cell_type": "code",
   "execution_count": 8,
   "id": "8a51ac2d",
   "metadata": {},
   "outputs": [],
   "source": [
    "import pandas as pd\n",
    "import seaborn as sns\n",
    "import matplotlib.pyplot as plt\n",
    "import pandas_datareader as web\n",
    "from sklearn.preprocessing import MinMaxScaler\n",
    "import numpy as np\n",
    "\n",
    "\n",
    "\n",
    "import keras\n"
   ]
  },
  {
   "cell_type": "code",
   "execution_count": 9,
   "id": "4d578179",
   "metadata": {},
   "outputs": [
    {
     "data": {
      "text/plain": [
       "(2432, 6)"
      ]
     },
     "execution_count": 9,
     "metadata": {},
     "output_type": "execute_result"
    }
   ],
   "source": [
    "data = web.get_data_yahoo('FB',start = \"2010-01-01\",\n",
    "                            end = \"2022-02-13\")\n",
    "\n",
    "train = web.get_data_yahoo(\"FB\",\n",
    "                            start = \"2010-01-01\",\n",
    "                            end = \"2022-01-14\")\n",
    "\n",
    "test = web.get_data_yahoo(\"FB\",\n",
    "                            start = \"2022-01-14\",\n",
    "                            end = \"2022-02-13\")\n",
    "\n",
    "\n",
    "\n",
    "train.shape"
   ]
  },
  {
   "cell_type": "code",
   "execution_count": 10,
   "id": "5a002c3f",
   "metadata": {},
   "outputs": [
    {
     "data": {
      "text/plain": [
       "(2432, 1)"
      ]
     },
     "execution_count": 10,
     "metadata": {},
     "output_type": "execute_result"
    }
   ],
   "source": [
    "train_arr = np.array(train.Close).reshape(-1,1)\n",
    "train_arr.shape"
   ]
  },
  {
   "cell_type": "code",
   "execution_count": 11,
   "id": "a900a1ac",
   "metadata": {},
   "outputs": [],
   "source": [
    "normalizer = MinMaxScaler((0,1))\n",
    "normalized_train = normalizer.fit_transform(train)"
   ]
  },
  {
   "cell_type": "code",
   "execution_count": 12,
   "id": "cf37bd05",
   "metadata": {},
   "outputs": [
    {
     "name": "stdout",
     "output_type": "stream",
     "text": [
      "(2372, 60, 1)\n",
      "[0.00909687 0.00857783 0.00603726 ... 0.86898325 0.86696175 0.85903956]\n"
     ]
    }
   ],
   "source": [
    "inputs = list()\n",
    "targets = list()\n",
    "\n",
    "lr_days = 60\n",
    "train_len = train_arr.shape[0]\n",
    "\n",
    "for day in range(lr_days, train_len):\n",
    "    \n",
    "    inputs.append(normalized_train[day-lr_days:day, 0])\n",
    "    \n",
    "    targets.append(normalized_train[day, 0])\n",
    "    \n",
    "inputs = np.array(inputs)\n",
    "inputs = np.reshape(inputs, (inputs.shape[0], inputs.shape[1], 1))\n",
    "targets = np.array(targets)\n",
    "print(inputs.shape)\n",
    "print(targets)#5486"
   ]
  },
  {
   "cell_type": "code",
   "execution_count": 13,
   "id": "72343918",
   "metadata": {},
   "outputs": [],
   "source": [
    "lstm_net = keras.Sequential(\n",
    "    [\n",
    "    \n",
    "    keras.layers.LSTM(50, return_sequences = True, input_shape = (inputs.shape[1], 1)),\n",
    "    keras.layers.Dropout(0.1),\n",
    "    keras.layers.LSTM(50, return_sequences = True),\n",
    "    keras.layers.Dropout(0.1),\n",
    "    keras.layers.LSTM(50, return_sequences = True),\n",
    "    keras.layers.Dropout(0.1),\n",
    "    keras.layers.LSTM(50, return_sequences = True),\n",
    "    keras.layers.Dropout(0.1),\n",
    "    keras.layers.LSTM(50, return_sequences = True),\n",
    "    keras.layers.Dropout(0.1),\n",
    "    keras.layers.LSTM(50, return_sequences = True),\n",
    "    keras.layers.Dropout(0.1),\n",
    "    keras.layers.LSTM(50, return_sequences = True),\n",
    "    keras.layers.Dropout(0.1),\n",
    "\n",
    "\n",
    "    keras.layers.LSTM(50),\n",
    "    keras.layers.Dropout(0.1),\n",
    "    keras.layers.Dense(units=1)\n",
    "\n",
    "    ]\n",
    ")"
   ]
  },
  {
   "cell_type": "code",
   "execution_count": 14,
   "id": "0b3017f7",
   "metadata": {},
   "outputs": [
    {
     "data": {
      "text/plain": [
       "60"
      ]
     },
     "execution_count": 14,
     "metadata": {},
     "output_type": "execute_result"
    }
   ],
   "source": [
    "inputs.shape[1]"
   ]
  },
  {
   "cell_type": "code",
   "execution_count": 15,
   "id": "1890fb3a",
   "metadata": {},
   "outputs": [],
   "source": [
    "lstm_net.compile(\n",
    "    optimizer = 'adam', \n",
    "    metrics = ['accuracy'],\n",
    "    loss = 'mean_squared_error')"
   ]
  },
  {
   "cell_type": "code",
   "execution_count": 16,
   "id": "13f88ed4",
   "metadata": {},
   "outputs": [
    {
     "name": "stdout",
     "output_type": "stream",
     "text": [
      "Epoch 1/80\n",
      "75/75 [==============================] - 298s 259ms/step - loss: 0.0166 - accuracy: 8.4317e-04\n",
      "Epoch 2/80\n",
      "75/75 [==============================] - 22s 302ms/step - loss: 0.0029 - accuracy: 8.4317e-04\n",
      "Epoch 3/80\n",
      "75/75 [==============================] - 18s 237ms/step - loss: 0.0028 - accuracy: 8.4317e-04\n",
      "Epoch 4/80\n",
      "75/75 [==============================] - 22s 291ms/step - loss: 0.0024 - accuracy: 8.4317e-04\n",
      "Epoch 5/80\n",
      "75/75 [==============================] - 18s 240ms/step - loss: 0.0020 - accuracy: 8.4317e-04\n",
      "Epoch 6/80\n",
      "75/75 [==============================] - 15s 208ms/step - loss: 0.0026 - accuracy: 8.4317e-04\n",
      "Epoch 7/80\n",
      "75/75 [==============================] - 10s 129ms/step - loss: 0.0020 - accuracy: 8.4317e-04\n",
      "Epoch 8/80\n",
      "75/75 [==============================] - 17s 223ms/step - loss: 0.0019 - accuracy: 8.4317e-04\n",
      "Epoch 9/80\n",
      "75/75 [==============================] - 11s 151ms/step - loss: 0.0023 - accuracy: 8.4317e-04\n",
      "Epoch 10/80\n",
      "75/75 [==============================] - 8s 106ms/step - loss: 0.0017 - accuracy: 8.4317e-04\n",
      "Epoch 11/80\n",
      "75/75 [==============================] - 9s 127ms/step - loss: 0.0020 - accuracy: 8.4317e-04\n",
      "Epoch 12/80\n",
      "75/75 [==============================] - 8s 104ms/step - loss: 0.0015 - accuracy: 8.4317e-04\n",
      "Epoch 13/80\n",
      "75/75 [==============================] - 8s 106ms/step - loss: 0.0016 - accuracy: 8.4317e-04\n",
      "Epoch 14/80\n",
      "75/75 [==============================] - 8s 106ms/step - loss: 0.0016 - accuracy: 8.4317e-04\n",
      "Epoch 15/80\n",
      "75/75 [==============================] - 10s 108ms/step - loss: 0.0015 - accuracy: 8.4317e-04\n",
      "Epoch 16/80\n",
      "75/75 [==============================] - 8s 106ms/step - loss: 0.0014 - accuracy: 8.4317e-04\n",
      "Epoch 17/80\n",
      "75/75 [==============================] - 10s 129ms/step - loss: 0.0014 - accuracy: 8.4317e-04\n",
      "Epoch 18/80\n",
      "75/75 [==============================] - 8s 105ms/step - loss: 0.0012 - accuracy: 8.4317e-04\n",
      "Epoch 19/80\n",
      "75/75 [==============================] - 8s 105ms/step - loss: 0.0014 - accuracy: 8.4317e-04\n",
      "Epoch 20/80\n",
      "75/75 [==============================] - 8s 103ms/step - loss: 0.0011 - accuracy: 8.4317e-04\n",
      "Epoch 21/80\n",
      "75/75 [==============================] - 8s 102ms/step - loss: 0.0012 - accuracy: 8.4317e-04\n",
      "Epoch 22/80\n",
      "75/75 [==============================] - 8s 102ms/step - loss: 0.0011 - accuracy: 8.4317e-04\n",
      "Epoch 23/80\n",
      "75/75 [==============================] - 8s 102ms/step - loss: 0.0012 - accuracy: 8.4317e-04\n",
      "Epoch 24/80\n",
      "75/75 [==============================] - 8s 101ms/step - loss: 0.0012 - accuracy: 8.4317e-04\n",
      "Epoch 25/80\n",
      "75/75 [==============================] - 8s 103ms/step - loss: 0.0011 - accuracy: 8.4317e-04\n",
      "Epoch 26/80\n",
      "75/75 [==============================] - 8s 103ms/step - loss: 0.0011 - accuracy: 8.4317e-04\n",
      "Epoch 27/80\n",
      "75/75 [==============================] - 9s 103ms/step - loss: 0.0013 - accuracy: 8.4317e-04\n",
      "Epoch 28/80\n",
      "75/75 [==============================] - 8s 101ms/step - loss: 0.0012 - accuracy: 8.4317e-04\n",
      "Epoch 29/80\n",
      "75/75 [==============================] - 8s 101ms/step - loss: 0.0011 - accuracy: 8.4317e-04\n",
      "Epoch 30/80\n",
      "75/75 [==============================] - 8s 101ms/step - loss: 0.0012 - accuracy: 8.4317e-04\n",
      "Epoch 31/80\n",
      "75/75 [==============================] - 8s 102ms/step - loss: 0.0011 - accuracy: 8.4317e-04\n",
      "Epoch 32/80\n",
      "75/75 [==============================] - 8s 101ms/step - loss: 0.0011 - accuracy: 8.4317e-04\n",
      "Epoch 33/80\n",
      "75/75 [==============================] - 7s 100ms/step - loss: 0.0015 - accuracy: 8.4317e-04\n",
      "Epoch 34/80\n",
      "75/75 [==============================] - 8s 102ms/step - loss: 0.0011 - accuracy: 8.4317e-04\n",
      "Epoch 35/80\n",
      "75/75 [==============================] - 7s 101ms/step - loss: 0.0011 - accuracy: 8.4317e-04\n",
      "Epoch 36/80\n",
      "75/75 [==============================] - 8s 104ms/step - loss: 0.0010 - accuracy: 8.4317e-04\n",
      "Epoch 37/80\n",
      "75/75 [==============================] - 8s 103ms/step - loss: 0.0010 - accuracy: 8.4317e-04\n",
      "Epoch 38/80\n",
      "75/75 [==============================] - 8s 106ms/step - loss: 9.0154e-04 - accuracy: 8.4317e-04\n",
      "Epoch 39/80\n",
      "75/75 [==============================] - 8s 102ms/step - loss: 8.4050e-04 - accuracy: 8.4317e-04\n",
      "Epoch 40/80\n",
      "75/75 [==============================] - 8s 102ms/step - loss: 9.2932e-04 - accuracy: 8.4317e-04\n",
      "Epoch 41/80\n",
      "75/75 [==============================] - 8s 104ms/step - loss: 8.5661e-04 - accuracy: 8.4317e-04\n",
      "Epoch 42/80\n",
      "75/75 [==============================] - 8s 102ms/step - loss: 8.2992e-04 - accuracy: 8.4317e-04\n",
      "Epoch 43/80\n",
      "75/75 [==============================] - 8s 103ms/step - loss: 0.0011 - accuracy: 8.4317e-04\n",
      "Epoch 44/80\n",
      "75/75 [==============================] - 8s 108ms/step - loss: 7.6633e-04 - accuracy: 8.4317e-04\n",
      "Epoch 45/80\n",
      "75/75 [==============================] - 9s 107ms/step - loss: 7.7040e-04 - accuracy: 8.4317e-04\n",
      "Epoch 46/80\n",
      "75/75 [==============================] - 3s 40ms/step - loss: 8.2879e-04 - accuracy: 8.4317e-04\n",
      "Epoch 47/80\n",
      "75/75 [==============================] - 3s 40ms/step - loss: 7.4668e-04 - accuracy: 8.4317e-04\n",
      "Epoch 48/80\n",
      "75/75 [==============================] - 3s 41ms/step - loss: 9.4695e-04 - accuracy: 8.4317e-04\n",
      "Epoch 49/80\n",
      "75/75 [==============================] - 3s 41ms/step - loss: 7.2472e-04 - accuracy: 8.4317e-04\n",
      "Epoch 50/80\n",
      "75/75 [==============================] - 3s 41ms/step - loss: 7.4889e-04 - accuracy: 8.4317e-04\n",
      "Epoch 51/80\n",
      "75/75 [==============================] - 3s 40ms/step - loss: 8.6015e-04 - accuracy: 8.4317e-04\n",
      "Epoch 52/80\n",
      "75/75 [==============================] - 3s 40ms/step - loss: 8.1143e-04 - accuracy: 8.4317e-04\n",
      "Epoch 53/80\n",
      "75/75 [==============================] - 3s 39ms/step - loss: 8.0584e-04 - accuracy: 8.4317e-04\n",
      "Epoch 54/80\n",
      "75/75 [==============================] - 3s 40ms/step - loss: 7.1622e-04 - accuracy: 8.4317e-04\n",
      "Epoch 55/80\n",
      "75/75 [==============================] - 3s 40ms/step - loss: 6.3738e-04 - accuracy: 8.4317e-04\n",
      "Epoch 56/80\n",
      "75/75 [==============================] - 3s 41ms/step - loss: 8.0063e-04 - accuracy: 8.4317e-04\n",
      "Epoch 57/80\n",
      "75/75 [==============================] - 3s 40ms/step - loss: 9.5876e-04 - accuracy: 8.4317e-04\n",
      "Epoch 58/80\n",
      "75/75 [==============================] - 3s 40ms/step - loss: 6.9411e-04 - accuracy: 8.4317e-04\n",
      "Epoch 59/80\n",
      "75/75 [==============================] - 3s 41ms/step - loss: 7.0689e-04 - accuracy: 8.4317e-04\n",
      "Epoch 60/80\n",
      "75/75 [==============================] - 3s 44ms/step - loss: 8.2703e-04 - accuracy: 8.4317e-04\n",
      "Epoch 61/80\n",
      "75/75 [==============================] - 3s 43ms/step - loss: 6.6425e-04 - accuracy: 8.4317e-04\n",
      "Epoch 62/80\n",
      "75/75 [==============================] - 3s 42ms/step - loss: 7.5251e-04 - accuracy: 8.4317e-04\n",
      "Epoch 63/80\n",
      "75/75 [==============================] - 3s 42ms/step - loss: 9.9072e-04 - accuracy: 8.4317e-04\n",
      "Epoch 64/80\n",
      "75/75 [==============================] - 3s 42ms/step - loss: 7.0322e-04 - accuracy: 8.4317e-04\n",
      "Epoch 65/80\n",
      "75/75 [==============================] - 3s 43ms/step - loss: 5.8676e-04 - accuracy: 8.4317e-04\n",
      "Epoch 66/80\n",
      "75/75 [==============================] - 3s 40ms/step - loss: 6.3592e-04 - accuracy: 8.4317e-04\n",
      "Epoch 67/80\n",
      "75/75 [==============================] - 3s 39ms/step - loss: 6.5051e-04 - accuracy: 8.4317e-04\n",
      "Epoch 68/80\n",
      "75/75 [==============================] - 3s 41ms/step - loss: 6.0789e-04 - accuracy: 8.4317e-04\n",
      "Epoch 69/80\n",
      "75/75 [==============================] - 3s 45ms/step - loss: 6.1743e-04 - accuracy: 8.4317e-04\n",
      "Epoch 70/80\n",
      "75/75 [==============================] - 3s 44ms/step - loss: 8.2143e-04 - accuracy: 8.4317e-04\n",
      "Epoch 71/80\n",
      "75/75 [==============================] - 3s 45ms/step - loss: 6.1013e-04 - accuracy: 8.4317e-04\n",
      "Epoch 72/80\n",
      "75/75 [==============================] - 3s 43ms/step - loss: 6.4886e-04 - accuracy: 8.4317e-04\n",
      "Epoch 73/80\n",
      "75/75 [==============================] - 3s 44ms/step - loss: 8.0678e-04 - accuracy: 8.4317e-04\n",
      "Epoch 74/80\n",
      "75/75 [==============================] - 3s 40ms/step - loss: 6.6099e-04 - accuracy: 8.4317e-04\n",
      "Epoch 75/80\n",
      "75/75 [==============================] - 3s 40ms/step - loss: 6.7954e-04 - accuracy: 8.4317e-04\n",
      "Epoch 76/80\n",
      "75/75 [==============================] - 3s 42ms/step - loss: 5.8353e-04 - accuracy: 8.4317e-04\n",
      "Epoch 77/80\n"
     ]
    },
    {
     "name": "stdout",
     "output_type": "stream",
     "text": [
      "75/75 [==============================] - 3s 42ms/step - loss: 5.8892e-04 - accuracy: 8.4317e-04\n",
      "Epoch 78/80\n",
      "75/75 [==============================] - 3s 43ms/step - loss: 5.5794e-04 - accuracy: 8.4317e-04\n",
      "Epoch 79/80\n",
      "75/75 [==============================] - 3s 39ms/step - loss: 5.4113e-04 - accuracy: 8.4317e-04\n",
      "Epoch 80/80\n",
      "75/75 [==============================] - 3s 37ms/step - loss: 5.6995e-04 - accuracy: 8.4317e-04\n"
     ]
    },
    {
     "data": {
      "text/plain": [
       "<keras.callbacks.History at 0x21020befeb0>"
      ]
     },
     "execution_count": 16,
     "metadata": {},
     "output_type": "execute_result"
    }
   ],
   "source": [
    "lstm_net.fit(inputs, targets, epochs = 80, batch_size = 32)"
   ]
  },
  {
   "cell_type": "code",
   "execution_count": 21,
   "id": "4ca1fe2c",
   "metadata": {},
   "outputs": [
    {
     "name": "stdout",
     "output_type": "stream",
     "text": [
      "Model: \"sequential\"\n",
      "_________________________________________________________________\n",
      " Layer (type)                Output Shape              Param #   \n",
      "=================================================================\n",
      " lstm (LSTM)                 (None, 60, 50)            10400     \n",
      "                                                                 \n",
      " dropout (Dropout)           (None, 60, 50)            0         \n",
      "                                                                 \n",
      " lstm_1 (LSTM)               (None, 60, 50)            20200     \n",
      "                                                                 \n",
      " dropout_1 (Dropout)         (None, 60, 50)            0         \n",
      "                                                                 \n",
      " lstm_2 (LSTM)               (None, 60, 50)            20200     \n",
      "                                                                 \n",
      " dropout_2 (Dropout)         (None, 60, 50)            0         \n",
      "                                                                 \n",
      " lstm_3 (LSTM)               (None, 60, 50)            20200     \n",
      "                                                                 \n",
      " dropout_3 (Dropout)         (None, 60, 50)            0         \n",
      "                                                                 \n",
      " lstm_4 (LSTM)               (None, 60, 50)            20200     \n",
      "                                                                 \n",
      " dropout_4 (Dropout)         (None, 60, 50)            0         \n",
      "                                                                 \n",
      " lstm_5 (LSTM)               (None, 60, 50)            20200     \n",
      "                                                                 \n",
      " dropout_5 (Dropout)         (None, 60, 50)            0         \n",
      "                                                                 \n",
      " lstm_6 (LSTM)               (None, 60, 50)            20200     \n",
      "                                                                 \n",
      " dropout_6 (Dropout)         (None, 60, 50)            0         \n",
      "                                                                 \n",
      " lstm_7 (LSTM)               (None, 50)                20200     \n",
      "                                                                 \n",
      " dropout_7 (Dropout)         (None, 50)                0         \n",
      "                                                                 \n",
      " dense (Dense)               (None, 1)                 51        \n",
      "                                                                 \n",
      "=================================================================\n",
      "Total params: 151,851\n",
      "Trainable params: 151,851\n",
      "Non-trainable params: 0\n",
      "_________________________________________________________________\n",
      "None\n"
     ]
    }
   ],
   "source": [
    "print(lstm_net.summary())"
   ]
  },
  {
   "cell_type": "code",
   "execution_count": 22,
   "id": "cddca7b4",
   "metadata": {},
   "outputs": [
    {
     "data": {
      "text/plain": [
       "(20, 1)"
      ]
     },
     "execution_count": 22,
     "metadata": {},
     "output_type": "execute_result"
    }
   ],
   "source": [
    "test_targets = np.array(test.Close).reshape(-1,1)\n",
    "test_targets.shape\n"
   ]
  },
  {
   "cell_type": "code",
   "execution_count": 23,
   "id": "ca0be565",
   "metadata": {},
   "outputs": [],
   "source": [
    "\n",
    "\n",
    "days_all = data.shape[0]\n",
    "days_test = test.shape[0]\n",
    "\n",
    "days_rem = days_all-lr_days-days_test\n",
    "test_x = normalizer.fit_transform(np.array(data.Close[days_rem:]).reshape(-1,1))\n",
    "\n",
    "last_day = lr_days + days_test\n",
    "test_i = list()\n",
    "for day in range(lr_days, last_day):\n",
    "    \n",
    "    test_i.append(test_x[day-lr_days:day, 0])\n",
    "    \n",
    "test_i = np.array(test_i)\n",
    "\n",
    "preds = normalizer.inverse_transform(lstm_net.predict(test_i))\n",
    "\n",
    "\n"
   ]
  },
  {
   "cell_type": "code",
   "execution_count": 24,
   "id": "ec50ed87",
   "metadata": {},
   "outputs": [
    {
     "data": {
      "image/png": "[encoded data removed]",
      "text/plain": [
       "<Figure size 432x288 with 1 Axes>"
      ]
     },
     "metadata": {
      "needs_background": "light"
     },
     "output_type": "display_data"
    }
   ],
   "source": [
    "plt.plot(test_targets, color = 'red', label = 'Real MSFT Stock Price')\n",
    "plt.plot(preds, color = 'blue', label = 'Predicted MSFT Stock Price')\n",
    "plt.title('MSFT Stock Price Prediction')\n",
    "plt.xlabel('Time (days)')\n",
    "plt.ylabel('MSFT Stock Price')\n",
    "plt.legend()\n",
    "plt.show()"
   ]
  },
  {
   "cell_type": "code",
   "execution_count": 30,
   "id": "3e374636",
   "metadata": {
    "scrolled": false
   },
   "outputs": [
    {
     "data": {
      "image/png": "[encoded data removed]",
      "text/plain": [
       "<Figure size 720x360 with 1 Axes>"
      ]
     },
     "metadata": {},
     "output_type": "display_data"
    }
   ],
   "source": [
    "sns.set()\n",
    "fig = plt.figure(figsize = (10,5))\n",
    "\n",
    "sns.lineplot(x=test.index,y=test['Close'])\n",
    "sns.lineplot(x=test.index,y=np.squeeze(preds)).set(title='Predictions for the Meta stocks')\n",
    "plt.legend(labels=[\"Actual stock price\",\"Predicted stock price\"])\n",
    "\n",
    "plt.ylabel(\"Close Price (USD)\")\n",
    "\n",
    "plt.show()\n",
    "fig.savefig('FB.png') \n",
    "plt.close(fig) "
   ]
  },
  {
   "cell_type": "code",
   "execution_count": 166,
   "id": "30502667",
   "metadata": {},
   "outputs": [],
   "source": [
    "# testing the code using other datasets"
   ]
  },
  {
   "cell_type": "code",
   "execution_count": null,
   "id": "218b4665",
   "metadata": {},
   "outputs": [],
   "source": []
  },
  {
   "cell_type": "code",
   "execution_count": null,
   "id": "719212bc",
   "metadata": {},
   "outputs": [],
   "source": []
  },
  {
   "cell_type": "code",
   "execution_count": null,
   "id": "8fa8bd0e",
   "metadata": {},
   "outputs": [],
   "source": []
  }
 ],
 "metadata": {
  "kernelspec": {
   "display_name": "Python 3 (ipykernel)",
   "language": "python",
   "name": "python3"
  },
  "language_info": {
   "codemirror_mode": {
    "name": "ipython",
    "version": 3
   },
   "file_extension": ".py",
   "mimetype": "text/x-python",
   "name": "python",
   "nbconvert_exporter": "python",
   "pygments_lexer": "ipython3",
   "version": "3.9.7"
  }
 },
 "nbformat": 4,
 "nbformat_minor": 5
}
